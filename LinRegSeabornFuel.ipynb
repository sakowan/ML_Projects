{
 "cells": [
  {
   "cell_type": "code",
   "execution_count": 31,
   "id": "aceaf476-f33f-4f4d-b3cd-78c0e4644a0d",
   "metadata": {},
   "outputs": [],
   "source": [
    "import torch\n",
    "import torch.nn as nn\n",
    "import torch.optim as optim\n",
    "from torch.utils.data import DataLoader\n",
    "from torchvision import datasets, transforms\n",
    "from torch.utils.data import Dataset, random_split\n",
    "from tqdm.notebook import tqdm #Pretty progress bar\n",
    "import matplotlib.pyplot as plt\n",
    "import numpy as np\n",
    "import pandas as pd\n",
    "import seaborn as sns\n",
    "from sklearn.preprocessing import MinMaxScaler #For normalization"
   ]
  },
  {
   "cell_type": "markdown",
   "id": "0f6a0363-259e-4c77-a1a7-265ae40454b3",
   "metadata": {},
   "source": [
    "# 1. Load and explore the data"
   ]
  },
  {
   "cell_type": "code",
   "execution_count": 24,
   "id": "25c92745-0bed-4553-8770-1799b2d0663a",
   "metadata": {},
   "outputs": [
    {
     "name": "stdout",
     "output_type": "stream",
     "text": [
      "Shape: (398, 9)\n",
      "Column values: Index(['mpg', 'cylinders', 'displacement', 'horsepower', 'weight',\n",
      "       'acceleration', 'model_year', 'origin', 'name'],\n",
      "      dtype='object')\n",
      "First 5 rows:     mpg  cylinders  displacement  horsepower  weight  acceleration  \\\n",
      "0  18.0          8         307.0       130.0    3504          12.0   \n",
      "1  15.0          8         350.0       165.0    3693          11.5   \n",
      "2  18.0          8         318.0       150.0    3436          11.0   \n",
      "3  16.0          8         304.0       150.0    3433          12.0   \n",
      "4  17.0          8         302.0       140.0    3449          10.5   \n",
      "\n",
      "   model_year origin                       name  \n",
      "0          70    usa  chevrolet chevelle malibu  \n",
      "1          70    usa          buick skylark 320  \n",
      "2          70    usa         plymouth satellite  \n",
      "3          70    usa              amc rebel sst  \n",
      "4          70    usa                ford torino  \n"
     ]
    }
   ],
   "source": [
    "df = sns.load_dataset(\"mpg\")\n",
    "print(\"Shape:\", df.shape)\n",
    "print(\"Column values:\", df.columns)\n",
    "print(\"First 5 rows:\", df.head(5))"
   ]
  },
  {
   "cell_type": "markdown",
   "id": "7282eeab-fb5e-4ce9-914d-e61f960fd86f",
   "metadata": {},
   "source": [
    "# 2. Preprocess the Data\n",
    "* Handle missing values if there are any.\n",
    "* Normalize or standardize numerical features if needed.\n",
    "* Encode categorical variables (if any exist).\n",
    "* Split the data into training and testing sets (e.g., 80/20 split)."
   ]
  },
  {
   "cell_type": "code",
   "execution_count": 27,
   "id": "ad4b9af6-a179-48c2-aae9-8be32725271b",
   "metadata": {},
   "outputs": [],
   "source": [
    "#Handle missing values\n",
    "if df.isnull().any(axis=1).sum() > 0:\n",
    "    \n",
    "    #Fill the empty rows of horsepower with the mean value of this column\n",
    "    df['horsepower'] = df['horsepower'].fillna(df['horsepower'].mean())"
   ]
  },
  {
   "cell_type": "code",
   "execution_count": 49,
   "id": "b0ffb941-8e4e-4ccd-a761-e4ac29d88e4b",
   "metadata": {},
   "outputs": [
    {
     "name": "stdout",
     "output_type": "stream",
     "text": [
      "        mpg  cylinders  displacement  horsepower    weight  acceleration  \\\n",
      "0  0.239362        1.0      0.617571    0.456522  0.536150      0.238095   \n",
      "1  0.159574        1.0      0.728682    0.646739  0.589736      0.208333   \n",
      "2  0.239362        1.0      0.645995    0.565217  0.516870      0.178571   \n",
      "3  0.186170        1.0      0.609819    0.565217  0.516019      0.238095   \n",
      "4  0.212766        1.0      0.604651    0.510870  0.520556      0.148810   \n",
      "\n",
      "   model_year  \n",
      "0         0.0  \n",
      "1         0.0  \n",
      "2         0.0  \n",
      "3         0.0  \n",
      "4         0.0  \n"
     ]
    }
   ],
   "source": [
    "#Normalize the data\n",
    "scaler = MinMaxScaler()\n",
    "\n",
    "#Get just the numeric columns\n",
    "to_normalize=[]\n",
    "for column in df.columns:\n",
    "    if pd.api.types.is_numeric_dtype(df[column]):\n",
    "        to_normalize.append(column)\n",
    "\n",
    "#Normalize numerica columns\n",
    "df = scaler.fit_transform(df[to_normalize])\n",
    "\n",
    "#Convert back to df from np\n",
    "df = pd.DataFrame(df_norm, columns=to_normalize)\n",
    "print(df.head(5))"
   ]
  },
  {
   "cell_type": "code",
   "execution_count": 55,
   "id": "63bae50e-35bc-4e58-81f5-e6d8a662140f",
   "metadata": {},
   "outputs": [],
   "source": [
    "#Split the data 80/20\n",
    "split80 = int(len(df) * 0.8)\n",
    "train_data, test_data = random_split(df, [split80, len(df) - split80])"
   ]
  },
  {
   "cell_type": "code",
   "execution_count": null,
   "id": "285dca7b-33d1-4440-99c1-d37d629a6738",
   "metadata": {},
   "outputs": [],
   "source": []
  }
 ],
 "metadata": {
  "kernelspec": {
   "display_name": "Python 3 (ipykernel)",
   "language": "python",
   "name": "python3"
  },
  "language_info": {
   "codemirror_mode": {
    "name": "ipython",
    "version": 3
   },
   "file_extension": ".py",
   "mimetype": "text/x-python",
   "name": "python",
   "nbconvert_exporter": "python",
   "pygments_lexer": "ipython3",
   "version": "3.12.4"
  }
 },
 "nbformat": 4,
 "nbformat_minor": 5
}
