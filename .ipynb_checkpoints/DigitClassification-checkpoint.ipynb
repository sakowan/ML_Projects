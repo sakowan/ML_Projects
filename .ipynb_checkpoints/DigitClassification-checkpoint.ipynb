{
 "cells": [
  {
   "cell_type": "code",
   "execution_count": 3,
   "id": "d9f6a641-cd62-407c-9723-c5c50b5ac01d",
   "metadata": {},
   "outputs": [],
   "source": [
    "import torch\n",
    "import torch.nn as nn\n",
    "import torch.optim as optim\n",
    "from torch.utils.data import DataLoader\n",
    "from torchvision import datasets, transforms\n",
    "from torch.utils.data import Dataset, random_split\n",
    "from tqdm.notebook import tqdm #Pretty progress bar\n",
    "import matplotlib.pyplot as plt"
   ]
  },
  {
   "cell_type": "code",
   "execution_count": 4,
   "id": "24303b8b-d2d2-4a42-834f-716e0c10b9ec",
   "metadata": {},
   "outputs": [],
   "source": [
    "#Make a transformer that preprocceses the data - converts it from images into normalised tensors\n",
    "transform = transforms.Compose([\n",
    "    transforms.ToTensor(),\n",
    "    transforms.Normalize((0.5,), (0.5,))\n",
    "])"
   ]
  },
  {
   "cell_type": "code",
   "execution_count": 5,
   "id": "3baddb8e-22e4-412f-b281-f5f2f6a94f56",
   "metadata": {},
   "outputs": [],
   "source": [
    "#Load the MNIST dataset\n",
    "dataset = datasets.MNIST(root='./data', train=True, download=True, transform=transform)\n",
    "\n",
    "#Split 80:20\n",
    "train_data, test_data = random_split(dataset, [int(len(dataset) * 0.8), int(len(dataset) * 0.2)])\n",
    "\n",
    "#Set train=False for validation\n",
    "val_data = datasets.MNIST(root='./data', train=False, download=True, transform=transform)"
   ]
  },
  {
   "cell_type": "code",
   "execution_count": 6,
   "id": "ea8f0f5d-4f1f-48b3-8070-33bfa830a648",
   "metadata": {},
   "outputs": [],
   "source": [
    "#Create dataloaders: Efficiently loads data in batches\n",
    "train_loader = DataLoader(train_data, batch_size=32, shuffle=True)\n",
    "test_loader = DataLoader(test_data, batch_size=32, shuffle=False)\n",
    "val_loader = DataLoader(val_data, batch_size=32, shuffle=False)"
   ]
  },
  {
   "cell_type": "code",
   "execution_count": 7,
   "id": "94b20a9e-2c97-46af-b312-21428b819626",
   "metadata": {},
   "outputs": [
    {
     "name": "stdout",
     "output_type": "stream",
     "text": [
      "Train data: 48000\n",
      "Test data: 12000\n",
      "Validation data: 10000\n",
      "Image shape: torch.Size([1, 28, 28]) Label: 5\n"
     ]
    }
   ],
   "source": [
    "#Each item in the dataset is in the form (image_tensor 28x28, actual_number)\n",
    "image_0, label_0 = dataset[0]\n",
    "print(\"Train data:\", len(train_data))\n",
    "print(\"Test data:\", len(test_data))\n",
    "print(\"Validation data:\", len(val_data))\n",
    "print(\"Image shape:\", image_0.shape, \"Label:\", label_0)"
   ]
  },
  {
   "cell_type": "code",
   "execution_count": 8,
   "id": "b83ea6c6-d534-4ff1-8ec5-279136dbc000",
   "metadata": {},
   "outputs": [],
   "source": [
    "#Design my model, I'm using a Convolutional Neural Network\n",
    "class CNN(nn.Module):\n",
    "\n",
    "    #For neural networks, the layers are defined in the init method.\n",
    "\n",
    "    def __init__(self, num_classes):\n",
    "        super(CNN, self).__init__()\n",
    "        self.layer1 = nn.Conv2d(in_channels=1, out_channels=16, kernel_size=3)\n",
    "        self.layer2 = nn.Conv2d(in_channels=16, out_channels=32, kernel_size=3)\n",
    "        self.max_pool1 = nn.MaxPool2d(kernel_size=2, stride=2)\n",
    "    \n",
    "        # Dropout after the second convolutional layer\n",
    "        self.dropout1 = nn.Dropout(p=0.5)\n",
    "    \n",
    "        # Flattened size from the 2nd convolutional layer output\n",
    "        self.fc1 = nn.Linear(32 * 12 * 12, 128)\n",
    "        \n",
    "        # Dropout after the first fully connected layer\n",
    "        self.dropout2 = nn.Dropout(p=0.5)\n",
    "    \n",
    "        self.fc2 = nn.Linear(128, num_classes)\n",
    "\n",
    "    def forward(self, x):\n",
    "        out = self.layer1(x)\n",
    "        out = self.layer2(out)\n",
    "        out = self.max_pool1(out)\n",
    "        \n",
    "        # Apply dropout after the second convolutional layer\n",
    "        out = self.dropout1(out)\n",
    "        \n",
    "        out = out.reshape(out.size(0), -1)\n",
    "        \n",
    "        out = self.fc1(out)\n",
    "        \n",
    "        # Apply dropout after the first fully connected layer\n",
    "        out = self.dropout2(out)\n",
    "    \n",
    "        out = self.fc2(out)\n",
    "        return out"
   ]
  },
  {
   "cell_type": "code",
   "execution_count": 9,
   "id": "fc76662b-cb0a-4826-af33-ee9b1ea67105",
   "metadata": {},
   "outputs": [
    {
     "data": {
      "text/plain": [
       "CNN(\n",
       "  (layer1): Conv2d(1, 16, kernel_size=(3, 3), stride=(1, 1))\n",
       "  (layer2): Conv2d(16, 32, kernel_size=(3, 3), stride=(1, 1))\n",
       "  (max_pool1): MaxPool2d(kernel_size=2, stride=2, padding=0, dilation=1, ceil_mode=False)\n",
       "  (dropout1): Dropout(p=0.5, inplace=False)\n",
       "  (fc1): Linear(in_features=4608, out_features=128, bias=True)\n",
       "  (dropout2): Dropout(p=0.5, inplace=False)\n",
       "  (fc2): Linear(in_features=128, out_features=10, bias=True)\n",
       ")"
      ]
     },
     "execution_count": 9,
     "metadata": {},
     "output_type": "execute_result"
    }
   ],
   "source": [
    "#Define the model\n",
    "model = CNN(num_classes=10)\n",
    "\n",
    "#Set the loss function and optimiser\n",
    "criterion = nn.CrossEntropyLoss()\n",
    "optimizer = optim.Adam(model.parameters(), lr=0.0005)\n",
    "\n",
    "#Establish a device - whether to run on CPU or GPU\n",
    "device = torch.device('cuda' if torch.cuda.is_available() else 'cpu')\n",
    "model.to(device)"
   ]
  },
  {
   "cell_type": "code",
   "execution_count": 10,
   "id": "dce31358-c3e1-48e9-8bee-58e4e3b3e510",
   "metadata": {},
   "outputs": [
    {
     "data": {
      "application/vnd.jupyter.widget-view+json": {
       "model_id": "cf329d9ccdf54c5d89db281856789de1",
       "version_major": 2,
       "version_minor": 0
      },
      "text/plain": [
       "Training loop:   0%|          | 0/1500 [00:00<?, ?it/s]"
      ]
     },
     "metadata": {},
     "output_type": "display_data"
    },
    {
     "data": {
      "application/vnd.jupyter.widget-view+json": {
       "model_id": "1e44b7318da04fe6a551d0615f3e02b9",
       "version_major": 2,
       "version_minor": 0
      },
      "text/plain": [
       "Validation loop:   0%|          | 0/313 [00:00<?, ?it/s]"
      ]
     },
     "metadata": {},
     "output_type": "display_data"
    },
    {
     "name": "stdout",
     "output_type": "stream",
     "text": [
      "Epoch 1/5 - Train loss: 0.2922183348791053, Validation loss: 0.09831960567124189\n"
     ]
    },
    {
     "data": {
      "application/vnd.jupyter.widget-view+json": {
       "model_id": "7c59173059b149069f8e4ceacc3f110c",
       "version_major": 2,
       "version_minor": 0
      },
      "text/plain": [
       "Training loop:   0%|          | 0/1500 [00:00<?, ?it/s]"
      ]
     },
     "metadata": {},
     "output_type": "display_data"
    },
    {
     "data": {
      "application/vnd.jupyter.widget-view+json": {
       "model_id": "87bd1303c3ad44c5a861acb287253bdd",
       "version_major": 2,
       "version_minor": 0
      },
      "text/plain": [
       "Validation loop:   0%|          | 0/313 [00:00<?, ?it/s]"
      ]
     },
     "metadata": {},
     "output_type": "display_data"
    },
    {
     "name": "stdout",
     "output_type": "stream",
     "text": [
      "Epoch 2/5 - Train loss: 0.15006944446265696, Validation loss: 0.08862780807120725\n"
     ]
    },
    {
     "data": {
      "application/vnd.jupyter.widget-view+json": {
       "model_id": "dff17081dd244480893952f852bf3507",
       "version_major": 2,
       "version_minor": 0
      },
      "text/plain": [
       "Training loop:   0%|          | 0/1500 [00:00<?, ?it/s]"
      ]
     },
     "metadata": {},
     "output_type": "display_data"
    },
    {
     "data": {
      "application/vnd.jupyter.widget-view+json": {
       "model_id": "9530d3a6b4a34ddbb10da73d8e13fd31",
       "version_major": 2,
       "version_minor": 0
      },
      "text/plain": [
       "Validation loop:   0%|          | 0/313 [00:00<?, ?it/s]"
      ]
     },
     "metadata": {},
     "output_type": "display_data"
    },
    {
     "name": "stdout",
     "output_type": "stream",
     "text": [
      "Epoch 3/5 - Train loss: 0.13117605279463654, Validation loss: 0.0741825634824112\n"
     ]
    },
    {
     "data": {
      "application/vnd.jupyter.widget-view+json": {
       "model_id": "6e2351c6e94a47e1bb0a33449688cdc3",
       "version_major": 2,
       "version_minor": 0
      },
      "text/plain": [
       "Training loop:   0%|          | 0/1500 [00:00<?, ?it/s]"
      ]
     },
     "metadata": {},
     "output_type": "display_data"
    },
    {
     "data": {
      "application/vnd.jupyter.widget-view+json": {
       "model_id": "e9bd9cee55a34541a0ebfe05547e65b5",
       "version_major": 2,
       "version_minor": 0
      },
      "text/plain": [
       "Validation loop:   0%|          | 0/313 [00:00<?, ?it/s]"
      ]
     },
     "metadata": {},
     "output_type": "display_data"
    },
    {
     "name": "stdout",
     "output_type": "stream",
     "text": [
      "Epoch 4/5 - Train loss: 0.1212599809441405, Validation loss: 0.07421774177383632\n"
     ]
    },
    {
     "data": {
      "application/vnd.jupyter.widget-view+json": {
       "model_id": "defe376d002e4b50900545c0edff280f",
       "version_major": 2,
       "version_minor": 0
      },
      "text/plain": [
       "Training loop:   0%|          | 0/1500 [00:00<?, ?it/s]"
      ]
     },
     "metadata": {},
     "output_type": "display_data"
    },
    {
     "data": {
      "application/vnd.jupyter.widget-view+json": {
       "model_id": "d7ee2ae255404bf6b17c8a37968987eb",
       "version_major": 2,
       "version_minor": 0
      },
      "text/plain": [
       "Validation loop:   0%|          | 0/313 [00:00<?, ?it/s]"
      ]
     },
     "metadata": {},
     "output_type": "display_data"
    },
    {
     "name": "stdout",
     "output_type": "stream",
     "text": [
      "Epoch 5/5 - Train loss: 0.11362315431144089, Validation loss: 0.07032928127199412\n"
     ]
    }
   ],
   "source": [
    "#Train the model\n",
    "\n",
    "#Epochs is the number of times the model goes through the dataset\n",
    "num_epochs = 5\n",
    "train_losses, val_losses = [], []\n",
    "\n",
    "for epoch in range(num_epochs):\n",
    "    model.train()\n",
    "    running_loss = 0.0\n",
    "    \n",
    "    for images, labels in tqdm(train_loader, desc='Training loop'):\n",
    "        #Move to device\n",
    "        images, labels = images.to(device), labels.to(device)\n",
    "        \n",
    "        # Forward pass: Compute predictions\n",
    "        optimizer.zero_grad()\n",
    "        predictions = model(images)\n",
    "        \n",
    "        # Calculate loss\n",
    "        loss = criterion(predictions, labels)\n",
    "        \n",
    "        # Backward pass: Update weights\n",
    "        loss.backward()\n",
    "\n",
    "        optimizer.step()\n",
    "        running_loss += loss.item() * labels.size(0)\n",
    "    \n",
    "    train_loss = running_loss / len(train_loader.dataset)\n",
    "    train_losses.append(train_loss)\n",
    "    \n",
    "    # Validation phase\n",
    "    model.eval()\n",
    "    running_loss = 0.0\n",
    "    with torch.no_grad():\n",
    "        for images, labels in tqdm(val_loader, desc='Validation loop'):\n",
    "            # Move inputs and labels to the device\n",
    "            images, labels = images.to(device), labels.to(device)\n",
    "\n",
    "            outputs = model(images)\n",
    "            loss = criterion(outputs, labels)\n",
    "            running_loss += loss.item() * labels.size(0)\n",
    "    val_loss = running_loss / len(val_loader.dataset)\n",
    "    val_losses.append(val_loss)\n",
    "    print(f\"Epoch {epoch+1}/{num_epochs} - Train loss: {train_loss}, Validation loss: {val_loss}\")\n"
   ]
  },
  {
   "cell_type": "code",
   "execution_count": 11,
   "id": "6e05f645-fc3a-4499-8e6a-d41abf8c2955",
   "metadata": {},
   "outputs": [
    {
     "data": {
      "image/png": "[encoded data removed]",
      "text/plain": [
       "<Figure size 800x600 with 1 Axes>"
      ]
     },
     "metadata": {},
     "output_type": "display_data"
    }
   ],
   "source": [
    "fig, ax = plt.subplots(figsize=(8, 6))\n",
    "plt.plot(train_losses, label='Training loss')\n",
    "plt.plot(val_losses, label='Validation loss')\n",
    "plt.legend()\n",
    "plt.title(\"Loss over epochs\")\n",
    "plt.show()"
   ]
  },
  {
   "cell_type": "code",
   "execution_count": null,
   "id": "b63a2adb-3828-4364-b327-c41a7b15f602",
   "metadata": {},
   "outputs": [],
   "source": []
  },
  {
   "cell_type": "markdown",
   "id": "1c43606a-72c7-4f05-ac01-a128e9537c1d",
   "metadata": {},
   "source": [
    "# My CNN Notes\n",
    "\n",
    "---\n",
    "\n",
    "## **1. Kernel (Filter)**\n",
    "- A **kernel** (or **filter**) is a small matrix (e.g., 3x3, 5x5) that slides over the input image or feature map to extract features.\n",
    "- Kernels learn to detect specific patterns, such as edges, textures, or shapes, depending on their weights.\n",
    "- **Kernel Size**: Defines the dimensions of the kernel (e.g., 3x3, 5x5). Smaller kernels (e.g., 3x3) are commonly used to capture fine-grained features.\n",
    "\n",
    "---\n",
    "\n",
    "## **2. In Channels**\n",
    "- **In Channels** refers to the number of input channels (or feature maps) to a convolutional layer.\n",
    "- For the **first convolutional layer**, `in_channels = 1` for grayscale images (e.g., MNIST) and `in_channels = 3` for RGB images.\n",
    "- For subsequent layers, `in_channels` equals the `out_channels` of the previous layer.\n",
    "\n",
    "---\n",
    "\n",
    "## **3. Convolutional Layers**\n",
    "- Convolutional layers apply **kernels** to the input to extract spatial features.\n",
    "- Key Parameters:\n",
    "  - `in_channels`: Number of input channels.\n",
    "  - `out_channels`: Number of filters (kernels) to apply.\n",
    "  - `kernel_size`: Size of the kernel (e.g., 3x3).\n",
    "  - `stride`: How many pixels the kernel moves at a time (e.g., 1 or 2).\n",
    "  - `padding`: Adds extra pixels around the input to control the output size (e.g., \"same\" or \"valid\").\n",
    "\n",
    "---\n",
    "\n",
    "## **4. Pooling Layers**\n",
    "- Pooling layers downsample feature maps to reduce spatial dimensions and computational cost.\n",
    "- Common Types:\n",
    "  - **Max Pooling**: Takes the maximum value in each window (e.g., 2x2).\n",
    "  - **Average Pooling**: Takes the average value in each window.\n",
    "- Key Parameters:\n",
    "  - `kernel_size`: Size of the pooling window (e.g., 2x2).\n",
    "  - `stride`: How many pixels the window moves at a time (e.g., 2).\n",
    "\n",
    "---\n",
    "\n",
    "## **5. Fully Connected (FC) Layers**\n",
    "- FC layers are traditional neural network layers where each neuron is connected to all neurons in the previous layer.\n",
    "- Used at the end of a CNN to combine features and produce the final output (e.g., class probabilities).\n",
    "- Key Parameters:\n",
    "  - `in_features`: Number of input features (flattened output from the last convolutional/pooling layer).\n",
    "  - `out_features`: Number of output features (e.g., number of classes).\n",
    "\n",
    "---\n",
    "\n",
    "## **6. Activation Functions**\n",
    "- Activation functions introduce non-linearity into the model, allowing it to learn complex patterns.\n",
    "- Common Activation Functions:\n",
    "  - **ReLU (Rectified Linear Unit)**:"
   ]
  }
 ],
 "metadata": {
  "kernelspec": {
   "display_name": "Python 3 (ipykernel)",
   "language": "python",
   "name": "python3"
  },
  "language_info": {
   "codemirror_mode": {
    "name": "ipython",
    "version": 3
   },
   "file_extension": ".py",
   "mimetype": "text/x-python",
   "name": "python",
   "nbconvert_exporter": "python",
   "pygments_lexer": "ipython3",
   "version": "3.12.4"
  }
 },
 "nbformat": 4,
 "nbformat_minor": 5
}
