{
 "cells": [
  {
   "cell_type": "markdown",
   "id": "5c001b20-8297-41b4-9d78-8b562fc40249",
   "metadata": {},
   "source": [
    "# Solving a System of Linear Equations Using Matrix Inversion\n",
    "\n",
    "This method to solve linear algebra equations only works if:\n",
    "1. The matrix is SQUARE.\n",
    "2. The matrix isn't singular - This means that one row of the matrix is a multiple of another row in the matrix, which implies that the 2 lines are parallel - so there will never be an intersection.\n",
    "\n",
    "Example of a singular matrix:\n",
    "$$\n",
    "\\begin{bmatrix}\n",
    "-4 & 1 \\\\\n",
    "-8 & 2\n",
    "\\end{bmatrix}\n",
    "$$\n",
    "\n",
    "\n",
    "We are given the following system of linear equations:\n",
    "\n",
    "\\begin{cases}\n",
    "4b + 2c = 4 \\\\\n",
    "-5b - 3c = -7\n",
    "\\end{cases}\n",
    "\n",
    "This can be represented in matrix form as:\n",
    "\n",
    "$$ A \\cdot \\mathbf{x} = \\mathbf{y} $$\n",
    "\n",
    "The solution is given by:\n",
    "\n",
    "$$ \\mathbf{x} = A^{-1} \\cdot \\mathbf{y} $$"
   ]
  },
  {
   "cell_type": "code",
   "execution_count": 1,
   "id": "2b0d9f7a-72bd-4ec7-ac84-ed256563e0e5",
   "metadata": {},
   "outputs": [],
   "source": [
    "import torch"
   ]
  },
  {
   "cell_type": "code",
   "execution_count": 9,
   "id": "43d96925-8e19-42cc-8b6a-3571419f26e7",
   "metadata": {},
   "outputs": [
    {
     "name": "stdout",
     "output_type": "stream",
     "text": [
      "tensor([[-1.],\n",
      "        [ 4.]])\n"
     ]
    }
   ],
   "source": [
    "X = torch.tensor([[4,2], [-5, -3.]]) #A matrix\n",
    "y = torch.tensor([[4], [-7.]])\n",
    "inverseX = torch.inverse(X)\n",
    "bc = torch.matmul(inverseX, y)\n",
    "print(bc)"
   ]
  },
  {
   "cell_type": "markdown",
   "id": "918aebb2-54d1-4d0a-b972-2175d6889561",
   "metadata": {},
   "source": [
    "**A vector multiplied by an indentity matrix will always equal itself.**"
   ]
  },
  {
   "cell_type": "code",
   "execution_count": 12,
   "id": "cd17c519-93f7-4f90-b5d3-b7afc54df28b",
   "metadata": {},
   "outputs": [
    {
     "name": "stdout",
     "output_type": "stream",
     "text": [
      "tensor([[True, True, True, True]])\n"
     ]
    }
   ],
   "source": [
    "X = torch.tensor([[2, 4, 6, 7.]]) #A matrix\n",
    "Identity = torch.eye(4)\n",
    "XI = torch.matmul(X, Identity)\n",
    "print(XI == X)"
   ]
  },
  {
   "cell_type": "markdown",
   "id": "d5945f2d-13b6-49c2-9a33-480c4b29c262",
   "metadata": {},
   "source": [
    "**The inverse of an identity matrix is always equals itself.**\n",
    "\n",
    "$$\n",
    "I^{-1} = I\n",
    "$$"
   ]
  },
  {
   "cell_type": "code",
   "execution_count": 19,
   "id": "f635fdc3-269e-4c57-9c44-16b7f5970582",
   "metadata": {},
   "outputs": [
    {
     "name": "stdout",
     "output_type": "stream",
     "text": [
      "tensor([[True, True, True],\n",
      "        [True, True, True],\n",
      "        [True, True, True]])\n"
     ]
    }
   ],
   "source": [
    "I = torch.eye(3)\n",
    "inverseI = torch.inverse(I)\n",
    "print(I == inverseI)"
   ]
  },
  {
   "cell_type": "markdown",
   "id": "94a0520f-23fc-45c7-93e3-c95c3f1ca587",
   "metadata": {},
   "source": [
    "# Diagonal Matrices\n",
    "\n",
    "A **diagonal matrix** is a square matrix in which the entries outside the main diagonal are all zero. The main diagonal can have any values.\n",
    "\n",
    "### General Form\n",
    "A diagonal matrix \\( D \\) of size \\( n \\times n \\) looks like this:\n",
    "\n",
    "$$\n",
    "D =\n",
    "\\begin{bmatrix}\n",
    "d_1 & 0 & 0 & \\cdots & 0 \\\\\n",
    "0 & d_2 & 0 & \\cdots & 0 \\\\\n",
    "0 & 0 & d_3 & \\cdots & 0 \\\\\n",
    "\\vdots & \\vdots & \\vdots & \\ddots & \\vdots \\\\\n",
    "0 & 0 & 0 & \\cdots & d_n\n",
    "\\end{bmatrix}\n",
    "$$\n",
    "\n",
    "Where \\( d_1, d_2, \\dots, d_n \\) are the diagonal elements, and all off-diagonal elements are zero.\n",
    "\n",
    "### Properties of Diagonal Matrices\n",
    "\n",
    "1. **Addition**: The sum of two diagonal matrices is also a diagonal matrix. \n",
    "   If \\( D_1 \\) and \\( D_2 \\) are diagonal matrices, then:\n",
    "   $$\n",
    "   D_1 + D_2 =\n",
    "   \\begin{bmatrix}\n",
    "   d_{11} + d_{12} & 0 & 0 & \\cdots & 0 \\\\\n",
    "   0 & d_{22} + d_{22} & 0 & \\cdots & 0 \\\\\n",
    "   0 & 0 & d_{33} + d_{33} & \\cdots & 0 \\\\\n",
    "   \\vdots & \\vdots & \\vdots & \\ddots & \\vdots \\\\\n",
    "   0 & 0 & 0 & \\cdots & d_{nn} + d_{nn}\n",
    "   \\end{bmatrix}\n",
    "   $$\n",
    "\n",
    "2. **Multiplication**: The product of two diagonal matrices is also a diagonal matrix, where each diagonal element is the product of the corresponding diagonal elements of the original matrices.\n",
    "   $$ \n",
    "   D_1 \\times D_2 =\n",
    "   \\begin{bmatrix}\n",
    "   d_{11} \\cdot d_{12} & 0 & 0 & \\cdots & 0 \\\\\n",
    "   0 & d_{22} \\cdot d_{22} & 0 & \\cdots & 0 \\\\\n",
    "   0 & 0 & d_{33} \\cdot d_{33} & \\cdots & 0 \\\\\n",
    "   \\vdots & \\vdots & \\vdots & \\ddots & \\vdots \\\\\n",
    "   0 & 0 & 0 & \\cdots & d_{nn} \\cdot d_{nn}\n",
    "   \\end{bmatrix}\n",
    "   $$\n",
    "\n",
    "3. **Inverse**: The inverse of a diagonal matrix \\( D \\) exists as long as none of the diagonal elements are zero. If \\( D \\) is invertible, its inverse \\( D^{-1} \\) is also a diagonal matrix with reciprocal values on the diagonal.\n",
    "   $$ \n",
    "   D^{-1} =\n",
    "   \\begin{bmatrix}\n",
    "   \\frac{1}{d_1} & 0 & 0 & \\cdots & 0 \\\\\n",
    "   0 & \\frac{1}{d_2} & 0 & \\cdots & 0 \\\\\n",
    "   0 & 0 & \\frac{1}{d_3} & \\cdots & 0 \\\\\n",
    "   \\vdots & \\vdots & \\vdots & \\ddots & \\vdots \\\\\n",
    "   0 & 0 & 0 & \\cdots & \\frac{1}{d_n}\n",
    "   \\end{bmatrix}\n",
    "   $$\n",
    "\n",
    "4. **Eigenvalues**: The diagonal elements of a diagonal matrix are the eigenvalues of that matrix.\n",
    "\n",
    "### Example\n",
    "\n",
    "Consider the following diagonal matrix:\n",
    "\n",
    "$$\n",
    "D =\n",
    "\\begin{bmatrix}\n",
    "3 & 0 & 0 \\\\\n",
    "0 & 5 & 0 \\\\\n",
    "0 & 0 & 7\n",
    "\\end{bmatrix}\n",
    "$$\n",
    "\n",
    "This matrix has eigenvalues \\( 3, 5, 7 \\), and if you multiply \\( D \\) by a scalar, the result is another diagonal matrix where each diagonal element is multiplied by that scalar.\n",
    "\n",
    "### Applications\n",
    "\n",
    "- Diagonal matrices are used in **diagonalization** of matrices.\n",
    "- They simplify matrix operations, such as finding powers or determinants.\n",
    "- They appear in many areas of physics and engineering, such as systems of equations and transformations.\n"
   ]
  },
  {
   "cell_type": "code",
   "execution_count": 25,
   "id": "4982a263-0a3e-4a37-8bd4-07a21eac2160",
   "metadata": {},
   "outputs": [
    {
     "name": "stdout",
     "output_type": "stream",
     "text": [
      "tensor([[1.0000, 0.0000, 0.0000],\n",
      "        [0.0000, 0.1000, 0.0000],\n",
      "        [0.0000, 0.0000, 0.0100]])\n"
     ]
    }
   ],
   "source": [
    "#Showing the inverse of a diagonal matrix\n",
    "diagonal = torch.tensor([1, 10, 100.])\n",
    "D = torch.diag(diagonal)\n",
    "inverseD = torch.inverse(D)\n",
    "print(inverseD)"
   ]
  },
  {
   "cell_type": "code",
   "execution_count": null,
   "id": "317e6e66-7189-4d0b-b033-da7396bf94ba",
   "metadata": {},
   "outputs": [],
   "source": []
  }
 ],
 "metadata": {
  "kernelspec": {
   "display_name": "Python 3 (ipykernel)",
   "language": "python",
   "name": "python3"
  },
  "language_info": {
   "codemirror_mode": {
    "name": "ipython",
    "version": 3
   },
   "file_extension": ".py",
   "mimetype": "text/x-python",
   "name": "python",
   "nbconvert_exporter": "python",
   "pygments_lexer": "ipython3",
   "version": "3.12.4"
  }
 },
 "nbformat": 4,
 "nbformat_minor": 5
}
